{
 "cells": [
  {
   "cell_type": "code",
   "execution_count": 1,
   "metadata": {},
   "outputs": [
    {
     "name": "stdout",
     "output_type": "stream",
     "text": [
      "{'first_name': 'Hira', 'last_name': 'akram', 'age': 22, 'city': 'karachi'}\n",
      "{'first_name': 'Hira', 'last_name': 'akram', 'age': 22, 'city': 'karachi', 'Qualificiation': 'BS Soft Eng'}\n",
      "{'first_name': 'Hira', 'last_name': 'akram', 'age': 22, 'city': 'karachi'}\n"
     ]
    }
   ],
   "source": [
    "\n",
    "#Q1\n",
    "data={\n",
    "    \"first_name\":\"Hira\" ,\n",
    "    \"last_name\":\"akram\", \n",
    "    \"age\":22,\n",
    "    \"city\":\"karachi\"\n",
    "}\n",
    "\n",
    "print(data)\n",
    "\n",
    "data[\"Qualificiation\"]=\"BS Soft Eng\"\n",
    "print(data)\n",
    "\n",
    "data.pop(\"Qualificiation\")\n",
    "print(data)"
   ]
  },
  {
   "cell_type": "code",
   "execution_count": 2,
   "metadata": {},
   "outputs": [
    {
     "name": "stdout",
     "output_type": "stream",
     "text": [
      "1. Karchi \n",
      "   Pakistan  \n",
      "   14900000  \n",
      "   World’s second most populous town\n",
      "2.Abudhabi \n",
      "   Dubai  \n",
      "   257899  \n",
      "   Desert\n",
      "3.  Shanghai \n",
      "   China  \n",
      "   26317000  \n",
      "   Shanghai is a world finance and cultural center\n"
     ]
    }
   ],
   "source": [
    "#Q2\n",
    "cities= {1:{\"city\":\"Karchi\",\"Country\":\"Pakistan\",\"Population\":\"14900000\",\"Fact\": \"World’s second most populous town\" },\n",
    "         2:{\"city\":\"Abudhabi\",\"Country\":\"Dubai\", \"Population\":\"257899\", \"Fact\": \"Desert\"},\n",
    "         3:{\"city\":\"Shanghai\",\"Country\":\"China\",\"Population\":\"26317000\", \"Fact\":  \"Shanghai is a world finance and cultural center\"}\n",
    "        }\n",
    "print(\"1. \" + cities[1][\"city\"] +\" \\n   \"+ cities[1][\"Country\"] +\"  \\n   \"+ cities[1][\"Population\"] +\"  \\n   \"+ cities[1][\"Fact\"])\n",
    "print (\"2.\" + cities[2][\"city\"] +\" \\n   \"+ cities[2][\"Country\"]  +\"  \\n   \"+ cities[2][\"Population\"]+\"  \\n   \"+ cities[2][\"Fact\"])\n",
    "print (\"3.  \" + cities[3][\"city\"] +\" \\n   \"    + cities[3][\"Country\"]  +\"  \\n   \"+ cities[3][\"Population\"]+\"  \\n   \"   + cities[3][\"Fact\"])"
   ]
  },
  {
   "cell_type": "code",
   "execution_count": 3,
   "metadata": {},
   "outputs": [
    {
     "name": "stdout",
     "output_type": "stream",
     "text": [
      "Enter age:  3\n",
      "The Ticket of movie is free\n"
     ]
    }
   ],
   "source": [
    "\n",
    "#3\n",
    "age=int(input(\"Enter age:  \"))\n",
    "if age < 4:\n",
    "     print(\"The Ticket of movie is free\")\n",
    "elif age == 4 or age <= 11:\n",
    "       print(\"The Ticket of movie is $10\")\n",
    "else:\n",
    "       print(\"The Ticket of movie is $15\")"
   ]
  },
  {
   "cell_type": "code",
   "execution_count": 4,
   "metadata": {},
   "outputs": [
    {
     "name": "stdout",
     "output_type": "stream",
     "text": [
      "One of my favorite books is Alice in Wonderland\n"
     ]
    }
   ],
   "source": [
    "#Q4\n",
    "def favorite_book(title):\n",
    "     print(\"One of my favorite books is\"+title)\n",
    "favorite_book(\" Alice in Wonderland\")"
   ]
  },
  {
   "cell_type": "markdown",
   "metadata": {},
   "source": []
  },
  {
   "cell_type": "markdown",
   "metadata": {},
   "source": []
  },
  {
   "cell_type": "code",
   "execution_count": null,
   "metadata": {},
   "outputs": [],
   "source": [
    "#Q5\n",
    "import random\n",
    "secret_number = random.randint(1, 30)\n",
    "tries, guess = 0, 0\n",
    "while guess != secret_number:\n",
    "    guess = int(input(\"Guess a number (<30): \"))\n",
    "    if guess > secret_number:\n",
    "        print(\"Lower...\")\n",
    "    elif guess < secret_number:\n",
    "        print(\"Higher...\")\n",
    "    tries += 1\n",
    "print('You guessed it! The number was {} in {} tries'.format(guess, tries))"
   ]
  },
  {
   "cell_type": "code",
   "execution_count": null,
   "metadata": {},
   "outputs": [],
   "source": []
  }
 ],
 "metadata": {
  "kernelspec": {
   "display_name": "Python 3",
   "language": "python",
   "name": "python3"
  },
  "language_info": {
   "codemirror_mode": {
    "name": "ipython",
    "version": 3
   },
   "file_extension": ".py",
   "mimetype": "text/x-python",
   "name": "python",
   "nbconvert_exporter": "python",
   "pygments_lexer": "ipython3",
   "version": "3.7.4"
  }
 },
 "nbformat": 4,
 "nbformat_minor": 2
}

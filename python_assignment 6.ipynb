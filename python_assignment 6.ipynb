{
 "cells": [
  {
   "cell_type": "markdown",
   "metadata": {},
   "source": [
    "Question1\n",
    "<br/>\n",
    "<b>Object-oriented programming (OOP)</b>\n",
    "<p>OOP is a programming language model in which programs are organized around data, or objects, rather than functions and logic</p>"
   ]
  },
  {
   "cell_type": "markdown",
   "metadata": {},
   "source": [
    "Question2\n",
    "<br/>\n",
    "<b>Benefits of OOP</b>\n",
    "\n",
    "1-It means reusing some facilities rather than building it again and again. This is done with the use of a class. We can use it ‘n’ number of times as per our need.\n",
    "2-This feature is more of a necessity for any programming languages, it helps users from doing re-work in many ways. It is always easy and time-saving to maintain and modify the existing codes with incorporating new changes into it.\n",
    "3-With the use of data hiding and abstraction mechanism, we are filtering out limited data to exposure which means we are maintaining security and providing necessary data to view.\n",
    "4-This is a condition created at the place of data storage (you can say Databases)where the same piece of data is held in two separate places. So the data redundancy is one of the greatest advantages of OOP. If a user wants a similar functionality in multiple classes he/she can go ahead by writing common class definitions for the similar functionalities and inherit them"
   ]
  },
  {
   "cell_type": "markdown",
   "metadata": {},
   "source": [
    "Question3\n",
    "<br/>\n",
    "<b>Function</b>\n",
    "\n",
    "Function is block of code that is also called by its name. (independent)\n",
    "The function can have different parameters or may not have any at all. If any data (parameters) are passed, they are passed explicitly.\n",
    "It may or may not return any data.\n",
    "Function does not deal with Class and its instance concept.\n",
    "<br/>\n",
    "<b>Method</b>\n",
    "\n",
    "Method is called by its name, but it is associated to an object (dependent).\n",
    "A method is implicitly passed the object on which it is invoked.\n",
    "It may or may not return any data.\n",
    "A method can operate on the data (instance variables) that is contained by the corresponding class"
   ]
  },
  {
   "cell_type": "markdown",
   "metadata": {},
   "source": [
    "Question4\n",
    "<br/>\n",
    "<b>Class</b>\n",
    "A class is an entity that determines how an object will behave and what the object will contain.\n",
    "<br/>\n",
    "<b>Object</b>\n",
    "An object is nothing but a self-contained component which consists of methods and properties to make a particular type of data useful. Object determines the behavior of the class. When you send a message to an object, you are asking the object to invoke or execute one of its methods.\n",
    "From a programming point of view, an object can be a data structure, a variable or a function. It has a memory location allocated. The object is designed as class hierarchies\n",
    "<br/>\n",
    "<b>Attribute</b>\n",
    " Attributes are the characteristics of the class that help to distinguish it from other classes.\n",
    " <br/>\n",
    " <b>Behaviour</b>\n",
    " Behaviors are the tasks that an object performs."
   ]
  },
  {
   "cell_type": "code",
   "execution_count": 4,
   "metadata": {},
   "outputs": [
    {
     "name": "stdout",
     "output_type": "stream",
     "text": [
      "Engine started\n",
      "Engine switched off\n",
      "Applay break\n",
      "2000\n",
      "c200\n",
      "50Lac\n"
     ]
    }
   ],
   "source": [
    "#Q4\n",
    "class car:\n",
    "    name = \"c200\"\n",
    "    make = \"mercedez\"\n",
    "    model = 2000\n",
    "    price = \"50Lac\"\n",
    "    owner = \"Ibrahim\"\n",
    "    def start(self):\n",
    "        print (\"Engine started\")\n",
    "    def stop(self):\n",
    "        print (\"Engine switched off\")\n",
    "    def breakk (self):\n",
    "        print (\"Applay break\")\n",
    "# Creates car_a object of car class\n",
    "car_a = car()\n",
    "car_a.start()\n",
    "car_a.stop()\n",
    "car_a.breakk()\n",
    "print(car_a.model)\n",
    "print(car_a.name)\n",
    "print(car_a.price)"
   ]
  },
  {
   "cell_type": "code",
   "execution_count": null,
   "metadata": {},
   "outputs": [],
   "source": []
  }
 ],
 "metadata": {
  "kernelspec": {
   "display_name": "Python 3",
   "language": "python",
   "name": "python3"
  },
  "language_info": {
   "codemirror_mode": {
    "name": "ipython",
    "version": 3
   },
   "file_extension": ".py",
   "mimetype": "text/x-python",
   "name": "python",
   "nbconvert_exporter": "python",
   "pygments_lexer": "ipython3",
   "version": "3.7.4"
  }
 },
 "nbformat": 4,
 "nbformat_minor": 2
}
